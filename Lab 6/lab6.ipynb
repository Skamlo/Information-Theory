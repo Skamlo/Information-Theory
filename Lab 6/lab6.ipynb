{
 "cells": [
  {
   "cell_type": "markdown",
   "metadata": {},
   "source": [
    "<center>\n",
    "<h1><b>Information Theory</b></h1>\n",
    "<h3>Lab 6: Lossless compression – Huffman coding</h3>\n",
    "<h4>Maksymilian Norkiewicz 160267</h4>\n",
    "<h4>Lecturer: Iwo Błądek<h4>\n",
    "</center>"
   ]
  },
  {
   "cell_type": "markdown",
   "metadata": {},
   "source": [
    "# Libraries"
   ]
  },
  {
   "cell_type": "code",
   "execution_count": 14,
   "metadata": {},
   "outputs": [],
   "source": [
    "from heapq import heappush, heappop, heapify\n",
    "from collections import defaultdict\n",
    "from bitarray import bitarray\n",
    "import os"
   ]
  },
  {
   "cell_type": "markdown",
   "metadata": {},
   "source": [
    "# HuffmanCoding class"
   ]
  },
  {
   "cell_type": "code",
   "execution_count": 3,
   "metadata": {},
   "outputs": [],
   "source": [
    "class HuffmanCoding:\n",
    "    def __init__(self, text:str):\n",
    "        \"\"\"Constructor is necessary to create the huffman_dict.\"\"\"\n",
    "        self._huffman_dict = self._create_huffman_dict(text)\n",
    "\n",
    "\n",
    "    def _create_huffman_dict(self, text:str) -> dict:\n",
    "        # Frequency\n",
    "        freq = defaultdict(int)\n",
    "        for ch in text:\n",
    "            freq[ch] += 1\n",
    "\n",
    "        # Create tree\n",
    "        heap = [[fq, [sym, '']] for sym, fq in freq.items()]\n",
    "        heapify(heap)\n",
    "        \n",
    "        right = None\n",
    "        left = None\n",
    "\n",
    "        while len(heap) > 1:\n",
    "            right = heappop(heap)\n",
    "            left = heappop(heap)\n",
    "            for pair in right[1:]:\n",
    "                pair[1] = '0' + pair[1]\n",
    "            for pair in left[1:]:\n",
    "                pair[1] = '1' + pair[1]\n",
    "            heappush(heap, [right[0] + left[0]] + right[1:] + left[1:])\n",
    "\n",
    "        huffman_list = right[1:] + left[1:]\n",
    "        huffman_dict = {a[0]:bitarray(str(a[1])) for a in huffman_list}\n",
    "\n",
    "        return huffman_dict\n",
    "\n",
    "\n",
    "    def encode_text(self, text:str) -> bitarray:\n",
    "        encoded_text = bitarray()\n",
    "        encoded_text.encode(self._huffman_dict, text)\n",
    "        return encoded_text\n",
    "\n",
    "\n",
    "    def encode_file(self, file_path:str, encoded_file_path:str):\n",
    "        with open(file_path, 'r') as f:\n",
    "            text = f.read()\n",
    "\n",
    "        encoded_text = self.encode_text(text)\n",
    "\n",
    "        # Add padding to bitarray \n",
    "        padding = 8 - (len(encoded_text) % 8)\n",
    "        padding = 0 if padding == 8 else padding\n",
    "        padding = bitarray(format(padding, '08b'))\n",
    "        encoded_text = padding + encoded_text\n",
    "\n",
    "        with open(encoded_file_path, 'wb') as f:\n",
    "            encoded_text.tofile(f)\n",
    "    \n",
    "\n",
    "    def decode_text(self, encoded_text:bitarray) -> str:\n",
    "        decoded_text = encoded_text.decode(self._huffman_dict) \n",
    "        return ''.join(decoded_text)\n",
    "    \n",
    "\n",
    "    def decode_text_from_file(self, encoded_file_path:str) -> str:\n",
    "        encoded_text = bitarray()\n",
    "\n",
    "        with open(encoded_file_path, 'rb') as f:\n",
    "            encoded_text.fromfile(f)\n",
    "\n",
    "        # Read padding and remove unnecessary bits\n",
    "        padding = encoded_text[:8]\n",
    "        padding = int(padding.to01(), 2)\n",
    "        encoded_text = encoded_text[8:-padding]\n",
    "        decoded_text = self.decode_text(encoded_text)\n",
    "        \n",
    "        return decoded_text\n",
    "\n",
    "\n",
    "    def decode_file(self, encoded_file_path:str, decoded_file_path:str):\n",
    "        decoded_text = self.decode_text_from_file(encoded_file_path)\n",
    "\n",
    "        with open(decoded_file_path, 'w') as f:\n",
    "            f.write(decoded_text)"
   ]
  },
  {
   "cell_type": "markdown",
   "metadata": {},
   "source": [
    "# Enoding"
   ]
  },
  {
   "cell_type": "code",
   "execution_count": 8,
   "metadata": {},
   "outputs": [],
   "source": [
    "original_file_path = \"./data/norm_wiki_sample.txt\"\n",
    "encoded_file_path = \"./data/encoded_file.bin\""
   ]
  },
  {
   "cell_type": "code",
   "execution_count": 9,
   "metadata": {},
   "outputs": [],
   "source": [
    "with open(original_file_path, 'r') as f:\n",
    "    text = f.read()\n",
    "\n",
    "huffman_coding = HuffmanCoding(text)"
   ]
  },
  {
   "cell_type": "code",
   "execution_count": 16,
   "metadata": {},
   "outputs": [
    {
     "name": "stdout",
     "output_type": "stream",
     "text": [
      "Binary codes:\n",
      "e: 000\n",
      "m: 00100\n",
      "y: 001010\n",
      "k: 0010110\n",
      "4: 001011100\n",
      "x: 001011101\n",
      "5: 001011110\n",
      "3: 001011111\n",
      "s: 0011\n",
      "w: 010000\n",
      "b: 010001\n",
      "c: 01001\n",
      "r: 0101\n",
      "o: 0110\n",
      "n: 0111\n",
      "i: 1000\n",
      "d: 10010\n",
      "2: 10011000\n",
      "9: 10011001\n",
      "v: 1001101\n",
      "g: 100111\n",
      "t: 1010\n",
      "p: 101100\n",
      "f: 101101\n",
      "l: 10111\n",
      "a: 1100\n",
      "h: 11010\n",
      "8: 110110000\n",
      "j: 110110001\n",
      "0: 11011001\n",
      "q: 1101101000\n",
      "z: 1101101001\n",
      "6: 1101101010\n",
      "7: 1101101011\n",
      "1: 11011011\n",
      "u: 110111\n",
      " : 111\n"
     ]
    }
   ],
   "source": [
    "print(\"Binary codes:\")\n",
    "for sign, binary_code in huffman_coding._huffman_dict.items():\n",
    "    print(f\"{sign}: {binary_code.to01()}\")"
   ]
  },
  {
   "cell_type": "code",
   "execution_count": 17,
   "metadata": {},
   "outputs": [
    {
     "name": "stdout",
     "output_type": "stream",
     "text": [
      "norm_wiki_sample.txt size: 10'788'941 bytes (86'311'528 bits)\n",
      "encoded_file.bin size: 5'811'216 bytes (46'489'728 bits)\n"
     ]
    }
   ],
   "source": [
    "huffman_coding.encode_file(original_file_path, encoded_file_path)\n",
    "\n",
    "print(\"{} size: {:,} bytes ({:,} bits)\\n{} size: {:,} bytes ({:,} bits)\".format(\n",
    "    original_file_path.split(\"/\")[-1],\n",
    "    os.path.getsize(original_file_path),\n",
    "    os.path.getsize(original_file_path) * 8,\n",
    "    encoded_file_path.split('/')[-1],\n",
    "    os.path.getsize(encoded_file_path),\n",
    "    os.path.getsize(encoded_file_path) * 8\n",
    ").replace(\",\", \"\\'\"))"
   ]
  },
  {
   "cell_type": "markdown",
   "metadata": {},
   "source": [
    "# Decoding"
   ]
  },
  {
   "cell_type": "code",
   "execution_count": 18,
   "metadata": {},
   "outputs": [],
   "source": [
    "decoded_text = huffman_coding.decode_text_from_file(encoded_file_path)"
   ]
  },
  {
   "cell_type": "code",
   "execution_count": 19,
   "metadata": {},
   "outputs": [
    {
     "data": {
      "text/plain": [
       "True"
      ]
     },
     "execution_count": 19,
     "metadata": {},
     "output_type": "execute_result"
    }
   ],
   "source": [
    "text == decoded_text"
   ]
  }
 ],
 "metadata": {
  "kernelspec": {
   "display_name": "Python 3",
   "language": "python",
   "name": "python3"
  },
  "language_info": {
   "codemirror_mode": {
    "name": "ipython",
    "version": 3
   },
   "file_extension": ".py",
   "mimetype": "text/x-python",
   "name": "python",
   "nbconvert_exporter": "python",
   "pygments_lexer": "ipython3",
   "version": "3.12.2"
  }
 },
 "nbformat": 4,
 "nbformat_minor": 2
}
